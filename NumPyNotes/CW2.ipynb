{
 "cells": [
  {
   "cell_type": "markdown",
   "id": "c928b587-c8a4-48de-b32b-564ed5ca288a",
   "metadata": {},
   "source": [
    "# Statistic for AI and Data Science : Coursework 2\n",
    "### Part 1: Data Preparation\n",
    "### Part 2: Exploratory Analysis\n",
    "### Part 3: Regression Modelling"
   ]
  },
  {
   "cell_type": "code",
   "execution_count": 1,
   "id": "08bce643-b518-46c3-a5ec-1ae584109e25",
   "metadata": {},
   "outputs": [
    {
     "ename": "ModuleNotFoundError",
     "evalue": "No module named 'sklearn'",
     "output_type": "error",
     "traceback": [
      "\u001b[1;31m---------------------------------------------------------------------------\u001b[0m",
      "\u001b[1;31mModuleNotFoundError\u001b[0m                       Traceback (most recent call last)",
      "Input \u001b[1;32mIn [1]\u001b[0m, in \u001b[0;36m<cell line: 5>\u001b[1;34m()\u001b[0m\n\u001b[0;32m      3\u001b[0m \u001b[38;5;28;01mimport\u001b[39;00m \u001b[38;5;21;01mmatplotlib\u001b[39;00m\u001b[38;5;21;01m.\u001b[39;00m\u001b[38;5;21;01mpyplot\u001b[39;00m \u001b[38;5;28;01mas\u001b[39;00m \u001b[38;5;21;01mplt\u001b[39;00m\n\u001b[0;32m      4\u001b[0m \u001b[38;5;28;01mimport\u001b[39;00m \u001b[38;5;21;01mseaborn\u001b[39;00m \u001b[38;5;28;01mas\u001b[39;00m \u001b[38;5;21;01msns\u001b[39;00m\n\u001b[1;32m----> 5\u001b[0m \u001b[38;5;28;01mfrom\u001b[39;00m \u001b[38;5;21;01msklearn\u001b[39;00m\u001b[38;5;21;01m.\u001b[39;00m\u001b[38;5;21;01mlinear_model\u001b[39;00m \u001b[38;5;28;01mimport\u001b[39;00m LinearRegression\n\u001b[0;32m      6\u001b[0m \u001b[38;5;28;01mfrom\u001b[39;00m \u001b[38;5;21;01msklearn\u001b[39;00m\u001b[38;5;21;01m.\u001b[39;00m\u001b[38;5;21;01mmetrics\u001b[39;00m \u001b[38;5;28;01mimport\u001b[39;00m mean_squared_error\n\u001b[0;32m      7\u001b[0m \u001b[38;5;28;01mfrom\u001b[39;00m \u001b[38;5;21;01msklearn\u001b[39;00m\u001b[38;5;21;01m.\u001b[39;00m\u001b[38;5;21;01mpreprocessing\u001b[39;00m \u001b[38;5;28;01mimport\u001b[39;00m StandardScaler\n",
      "\u001b[1;31mModuleNotFoundError\u001b[0m: No module named 'sklearn'"
     ]
    }
   ],
   "source": [
    "import pandas as pd\n",
    "import numpy as np\n",
    "import matplotlib.pyplot as plt\n",
    "import seaborn as sns\n",
    "from sklearn.linear_model import LinearRegression\n",
    "from sklearn.metrics import mean_squared_error\n",
    "from sklearn.preprocessing import StandardScaler\n",
    "%matplotlib inline"
   ]
  },
  {
   "cell_type": "markdown",
   "id": "20333f06-6d43-4da4-ad8c-3439f820d552",
   "metadata": {},
   "source": [
    "**Values of Categorical Variables** In the original data, the values of the categorical variables are represented as integers, with their meanings given in a data dictionary. In our dataset, these 'numeric codes' have been replaced with suitable names.\n",
    "\n",
    "| Variable      |      Values            |\n",
    "|:--------------|:-----------------------|\n",
    "|District       | Each district has a unique number  |\n",
    "|Toll           | Toll, Free                |\n",
    "|Maintainer     | State, County, Town or City, Agency, Private, Railroad, Toll Authority, Military, Unknown |\n",
    "|Urban          | Urban, Rural |\n",
    "|Status         | Interstate, Arterial, Minor, Local |\n",
    "|Historic       | Register, Possible, Unknown, Not historic |\n",
    "|Service_under  | Other, Highway, Railroad, Pedestrian, Interchange, Building |\n",
    "|Material       | Other, Concrete, Steel, Timber, Masonry |\n",
    "|Design         | Other, Slab, Beam, Frame, Truss, Arch, Suspension, Movable, Tunnel, Culvert, Mixed |\n",
    "|Scour_rating   | Unknown, Critical, Unstable, Stable, Protected, Dry, No waterway |\n",
    "|Deck_rating    | *Rating*: NA, Excellent, Very Good, Good, Satisfactory, Fair, Poor, Serious, Critical, Failing, Failed |\n",
    "|Superstr_rating| *Rating* |\n",
    "|Substr_rating  | *Rating* |"
   ]
  },
  {
   "cell_type": "markdown",
   "id": "adec9895-5895-43f4-8257-46530994d83c",
   "metadata": {
    "tags": []
   },
   "source": [
    "### Part 1: Data Preparation"
   ]
  },
  {
   "cell_type": "markdown",
   "id": "b2f7b96c-0115-4f66-a563-c1de5ea53315",
   "metadata": {},
   "source": [
    "This report looks at some data from the US National Bridge Inspection maintained by the Federal Highways Agency (FHWA), part of the US Department of Transportation. The data comes from the [National Bridge Inspection](https://www.fhwa.dot.gov/bridge/nbi/ascii.cfm) section of the FHWA's web site. However, it has been greatly simplified.\n",
    "\n",
    "**The aim of the Bridge Inspection programme is to check on the state of bridges so that necessary repairs can be carried out. If this is not done, a bridge can fail. The dataset has information about the bridges and the conditions\n",
    "\n",
    "* This FHWA's database will cover bridges in the state of Texas. \n",
    "* As well as bridges, the FHWA's database covers tunnels.\n"
   ]
  },
  {
   "cell_type": "markdown",
   "id": "4af7623d-5075-4093-9610-87b5a121b6aa",
   "metadata": {},
   "source": [
    "#### The Below table provides all the initial data being used in order to create a more cleaner dataset to work with and interpret."
   ]
  },
  {
   "cell_type": "markdown",
   "id": "0a355274-bf93-4543-968f-5e4488af2304",
   "metadata": {},
   "source": [
    "##### Removing **Outliers** and simplifying categories.\n",
    "\n",
    "- Create and return an age variable from year.\n",
    "- Remove historic bridges.\n",
    "- Merge and remove small categories.\n",
    "- Create current condition column from deck_rating, superstr_rating and substr_rating."
   ]
  },
  {
   "cell_type": "code",
   "execution_count": null,
   "id": "c804f7f7-9bf1-4cba-920d-1f24c9560cad",
   "metadata": {},
   "outputs": [],
   "source": [
    "rating_type = pd.CategoricalDtype(\n",
    "    categories=['Failed', 'Failing', 'Critical', 'Serious', 'Poor', 'Fair', \n",
    "                'Satisfactory', 'Good', 'Very Good', 'Excellent', 'NA'], \n",
    "    ordered=True)\n",
    "\n",
    "scour_type = pd.CategoricalDtype(\n",
    "    categories=['Unknown', 'Critical','Unstable', 'Stable', 'Protected', 'Dry', 'No waterway'], \n",
    "    ordered=True)\n",
    "\n",
    "types_dict = { 'Structure_id': str, 'District':'category', 'Toll':'category', \n",
    "              'Maintainer':'category', 'Urban':'category', 'Status':'category', \n",
    "              'Historic':'category', 'Service_under':'category', 'Material':'category', \n",
    "              'Design':'category', \n",
    "              'Deck_rating':rating_type, 'Superstr_rating':rating_type, 'Substr_rating':rating_type, \n",
    "              'Scour_rating':scour_type}\n",
    "\n",
    "bridges = pd.read_csv('tx19_bridges_sample.csv', dtype = types_dict, index_col = 'Structure_id')\n",
    "bridges  "
   ]
  },
  {
   "cell_type": "code",
   "execution_count": null,
   "id": "5dbd33d3-cd13-4da9-ba95-c17802308e98",
   "metadata": {},
   "outputs": [],
   "source": [
    "bridges[\"Historic\"].value_counts()"
   ]
  },
  {
   "cell_type": "markdown",
   "id": "6881980a-42cf-41c7-9d36-67cc2cf7f5a5",
   "metadata": {},
   "source": [
    "The table below like the above table also now includes the **Age** Variable. This will allow for easy of understanding and clarity"
   ]
  },
  {
   "cell_type": "code",
   "execution_count": null,
   "id": "5eb56e66-1e4c-4e21-91f8-28a95b3758cf",
   "metadata": {},
   "outputs": [],
   "source": [
    "bridges = bridges.assign(Age = 2021 - bridges.Year)\n",
    "bridges"
   ]
  },
  {
   "cell_type": "markdown",
   "id": "d6aa6a7c-53f6-45df-8248-52093b759a0b",
   "metadata": {},
   "source": [
    "The below table has a few amendments. The outliers have been removed which are the very old bridges i.e. the Historic ones. This will help to keep a cleaner more usable dataset. This has been taken from the variable variable **Historic** and taking out any data that is registered historic and 50 years old and over.\n",
    "\n",
    "The reason for this is due to the fact that a bridge that are over 50 years old can be considered historic.\n",
    "The [Taxas Historical Commission](https://www.thc.texas.gov/preserve/buildings-and-property) further elorates about the 50-year rule and how and why a particular texas bridge may be considered historic. \n",
    "\n",
    "There are many other bridges that are much older than 50 years old. However, they are very much still in use hence why bridges with an average daily use of 10 or less has also been removed from this set of data. Some very old bridges may have also gone through a refurbishment."
   ]
  },
  {
   "cell_type": "code",
   "execution_count": null,
   "id": "2a9bdb48-0fb3-477b-8c44-858203034d47",
   "metadata": {},
   "outputs": [],
   "source": [
    "\n",
    "bridges = bridges.drop(index = bridges.loc[(bridges.Age >= 50) & (bridges.Historic == \"Register\")].index)\n",
    "bridges = bridges.drop(index = bridges.loc[(bridges.AverageDaily <= 10)].index)\n",
    "bridges"
   ]
  },
  {
   "cell_type": "code",
   "execution_count": null,
   "id": "4d5c7832-a4c1-4456-ab6e-2b6c336013a6",
   "metadata": {},
   "outputs": [],
   "source": [
    "bridges[\"Historic\"].value_counts()"
   ]
  },
  {
   "cell_type": "markdown",
   "id": "d73009c3-9342-449f-87aa-7fedc05a4791",
   "metadata": {},
   "source": [
    "For both bridge Design and Material, the Design data has been merged to create a tidier more easily usuable data. Frame, Movable and Suspension bridges will now be part of **Other**. While Masonry and Timber will also be part Other for Materail.\n",
    "Design.\n",
    "\n",
    "It can happen that some categorical features have quite a few values with a small number of occurrence. This can often be a problem during while attempting to carry out data analysis."
   ]
  },
  {
   "cell_type": "code",
   "execution_count": null,
   "id": "ffc89298-7870-4831-956f-029946e1f1d2",
   "metadata": {},
   "outputs": [],
   "source": [
    "def Design_ (row):\n",
    "    if (row.Design ==  \"Frame\") : return \"Other\"\n",
    "    if (row.Design ==  \"Movable\") : return \"Other\"\n",
    "    if (row.Design ==  \"Suspension\") : return \"Other\"\n",
    "    return row.Design\n",
    "\n",
    "bridges.Design = bridges.apply(Design_, axis=1)\n",
    "bridges"
   ]
  },
  {
   "cell_type": "code",
   "execution_count": null,
   "id": "efa9ca80-ffd6-4866-a536-5a9c8e218503",
   "metadata": {},
   "outputs": [],
   "source": [
    "bridges[\"Design\"].value_counts()"
   ]
  },
  {
   "cell_type": "code",
   "execution_count": null,
   "id": "660b10f0-6c64-4777-a95d-7d93297b1d55",
   "metadata": {},
   "outputs": [],
   "source": [
    "def Material_ (row):\n",
    "    if (row.Material ==  \"Masonry\") : return \"Other\"\n",
    "    if (row.Material ==  \"Timber\") : return \"Other\"\n",
    "    return row.Material\n",
    "\n",
    "bridges.Material = bridges.apply(Material_, axis=1)\n",
    "bridges"
   ]
  },
  {
   "cell_type": "code",
   "execution_count": null,
   "id": "dc902186-0c93-41ed-a291-74360dc737a9",
   "metadata": {},
   "outputs": [],
   "source": [
    "bridges[\"Material\"].value_counts()"
   ]
  },
  {
   "cell_type": "markdown",
   "id": "b1a1c4f5-2814-4462-a639-a481386ad530",
   "metadata": {},
   "source": [
    "Another amendment that has been made to the data is to change the Deck, Superstructure and Substructure rating into numeric(integer) score rating starting from 0 - 9 with 0 as Failed and 9 as Excellent. Once the three scores/ratings have been created, a new varible called current condition will be made that will be made up of all the ratings totalled together.\n",
    "\n",
    "This has allowed the three categorical variables to be made into one continuous variable."
   ]
  },
  {
   "cell_type": "code",
   "execution_count": null,
   "id": "54d87181-4702-4475-94d2-787b042d251d",
   "metadata": {},
   "outputs": [],
   "source": [
    "ratings = { \"Failed\": 0, \"Failing\": 1, \"Critical\": 2, \"Serious\": 3, \"Poor\": 4, \"Fair\": 5, \"Satisfactory\": 6, \"Good\" : 7, \"Very Good\": 8, \"Excellent\": 9\n",
    "}\n",
    "\n",
    "bridges = bridges.replace(ratings)\n",
    "\n",
    "bridges[\"Current_Condition\"] = bridges.Deck_rating + bridges.Superstr_rating + bridges.Substr_rating\n",
    "bridges\n",
    "                   "
   ]
  },
  {
   "cell_type": "code",
   "execution_count": null,
   "id": "58322c0d-4ff3-4607-bebb-8bf25f99dd12",
   "metadata": {},
   "outputs": [],
   "source": []
  },
  {
   "cell_type": "markdown",
   "id": "0777057e-3d80-4a4d-b482-49e7f61ec435",
   "metadata": {},
   "source": [
    "## Part 2: Exploratory Analysis"
   ]
  },
  {
   "cell_type": "markdown",
   "id": "f941b675-8462-41c5-8994-7cf3dd7a1a61",
   "metadata": {},
   "source": [
    "Relationship between predictor variables and target variables\n",
    "- relationship between continuous variables\n",
    "- relationship between continuous variables and categorical variables\n",
    "- relationship between categorical variables\n",
    "- relationship between predictor variables and target variable"
   ]
  },
  {
   "cell_type": "markdown",
   "id": "fb5b9f41-7174-4e29-82dd-877b4f9efc4d",
   "metadata": {},
   "source": [
    "Below is a range of data that has been pulled from the original bridges dataset. This group of data will be used to assess the relationship between a number of predictor variables being Age, Average daily use (vehicles), number of trucks that use the bridge daily, bridge material and bridge design. This will be assessed against the current condition.\n",
    "\n",
    "Please pay particular attention to the Ratings and the current condition table this provides a clear idea of the condition of each bridge."
   ]
  },
  {
   "cell_type": "markdown",
   "id": "2a306846-4a64-4c26-91d1-c8c76864ab78",
   "metadata": {},
   "source": [
    "| Rating      |      Current Condition   |\n",
    "|:--------------|:-----------------------|\n",
    "|0     | Failed  |\n",
    "|1 - 3     | Failing|\n",
    "|4 - 6     | Critical |\n",
    "|7 - 9   | Serious |\n",
    "|10 - 12        |Poor|\n",
    "|13 - 15       | Fair|\n",
    "|16 - 18  | Satisfactory|\n",
    "|19 - 21       |Good|\n",
    "|22 - 24        | Very Good|\n",
    "|25 - 27        | Excellent|"
   ]
  },
  {
   "cell_type": "code",
   "execution_count": null,
   "id": "c7a15a25-a1d0-40e8-b999-5215ceff8ec5",
   "metadata": {},
   "outputs": [],
   "source": [
    "bridges_five_pred = bridges.loc[:,[\"Age\", \"AverageDaily\", \"Trucks_percent\", \"Material\", \"Design\", \"Current_Condition\"]]\n",
    "bridges_five_pred"
   ]
  },
  {
   "cell_type": "markdown",
   "id": "eb54304b-3bda-4e32-aa35-d1e2b30172ff",
   "metadata": {},
   "source": [
    "##### Relationship between continuous variables"
   ]
  },
  {
   "cell_type": "markdown",
   "id": "984048d8-0346-422a-aa7b-f145eddfc5c7",
   "metadata": {},
   "source": [
    "Below displays the relationship between continuous variables\n"
   ]
  },
  {
   "cell_type": "markdown",
   "id": "4d2687c0-270f-40bf-a462-750f1297d88a",
   "metadata": {},
   "source": [
    "The histogram below ignores categorical variables and only includes continous variables i.e. data with numerical values which can be an infinite set of possible values.\n",
    "\n",
    "The below **Age** histogram appears positively skewed and it appears that their are less older bridges than there are newer ones. The data spread is from about 2 years to 121 years and the greatest peak is around about 15 to 18 years. This shows that most bridges were built around this time.\n",
    "\n",
    "The **AverageDaily** also appears positively skewed with the most common average daily being around about the 50 mark. This data ranges from about 11 to 543000. This wide range shows that there are bridges that can be very busy while others have few visits. \n",
    "\n",
    "It appear that the **Trucks_Percent** is very few and most bridges get 0 trucks that cross daily. \n",
    "\n",
    "Lastly we have the **Current_Condition** which is somewhat symmetrical with a mean of 20 a median of 21 and a mode of also 21. This shows that the the majority of texas bridge are in good condition."
   ]
  },
  {
   "cell_type": "code",
   "execution_count": null,
   "id": "4ce4eb29-d7ad-48c8-b245-b5614af2dfa1",
   "metadata": {},
   "outputs": [],
   "source": [
    "hist_bridges = bridges_five_pred.hist(color=[\"blue\"], bins=50, figsize=(20,10))"
   ]
  },
  {
   "cell_type": "markdown",
   "id": "d51d075d-464c-448b-9b92-d3834f450602",
   "metadata": {},
   "source": [
    "Below is a table to show how each of the continous variables correlate. From a first glance it is clear there are no clear strong correlations between the variables. However, age and current condition seem to have a moderately negative correlation meaning there is a clear relationship between the two variables in question, but there's also a lot of randomness affecting one or both variables, or perhaps other variables affect the two variables in question, so the direct relationship isn't strong, but it certainly exists.\n",
    "\n"
   ]
  },
  {
   "cell_type": "code",
   "execution_count": null,
   "id": "75345e09-7277-41a1-9f96-e7e90495e1b5",
   "metadata": {},
   "outputs": [],
   "source": [
    "bridges_five_pred.corr()"
   ]
  },
  {
   "cell_type": "markdown",
   "id": "30afad23-ec68-4a1c-b373-7a9452f76e9d",
   "metadata": {},
   "source": [
    "This two tables below shows some useful information such as the mean, median, min, max and mode. The average age of any Texas bridge is 39 years old while the most common age is 15 years this is mainly due to the fact that there are some very old bridges that are up to 121 years old. You may also notice an average daily use of 11841 while the max is 543000 which may have an impact on the overall mean especilly as the min is 11.\n",
    "\n",
    "Another interesting find is the median, which is the middle (50%) point. It is quite useful to compare the median and the mean as this helps to identify any anomolies within the data. With Age this is due to having very old bridges in the dataset, AverageDaily has a bridge with 543000 crossings daily, Truck percent and current condition have not showed any massively clear anomolies as of yet."
   ]
  },
  {
   "cell_type": "code",
   "execution_count": null,
   "id": "26afaf49-e900-40d3-bba5-015941185f93",
   "metadata": {},
   "outputs": [],
   "source": [
    "bridges_five_pred.describe()"
   ]
  },
  {
   "cell_type": "code",
   "execution_count": null,
   "id": "d7b15ff1-3319-45c6-88be-9430d7081545",
   "metadata": {},
   "outputs": [],
   "source": [
    "bridges_five_pred.mode()"
   ]
  },
  {
   "cell_type": "markdown",
   "id": "129c8eca-2d3a-40f8-96e6-453ccb158317",
   "metadata": {},
   "source": [
    "The below heatmap would only include continous variables this is to show the correlation between each continuous variable. \n",
    "\n",
    "An absolute value of 1 indicates a perfect linear relationship which would be coloured in blue. A correlation close to 0 indicates non linear relationship between the variables which is coloured in white. If both variables tend to increase or decrease together, the coefficient is positive, and the line that represents the correlation slopes upward. When there appears to be a negative correlation the point would be coloured in red. "
   ]
  },
  {
   "cell_type": "code",
   "execution_count": null,
   "id": "8601a9c1-0f8d-4c58-ad47-33e0add4c38a",
   "metadata": {},
   "outputs": [],
   "source": [
    "fig,ax = plt.subplots(1,1, figsize=(15,12))\n",
    "sns.heatmap(bridges_five_pred.corr(), vmin=-1, vmax=1, cmap=sns.diverging_palette(20, 220, as_cmap=True), \n",
    "            annot=True, ax=ax, annot_kws={\"size\": 15})\n",
    "_y = plt.yticks(rotation=0, fontsize=15)\n",
    "_x = plt.xticks(rotation=45, fontsize=15)"
   ]
  },
  {
   "cell_type": "markdown",
   "id": "38a9769a-8ff7-46f5-8f8f-b71f34f6e918",
   "metadata": {},
   "source": [
    "The below scatter matrix is again showing the relation between the continous variables and was noticed previously no clear relation can be found as of yet between these continuous variables."
   ]
  },
  {
   "cell_type": "code",
   "execution_count": null,
   "id": "e9442675-b97a-4ffd-867d-c85649da8414",
   "metadata": {},
   "outputs": [],
   "source": [
    "_a = pd.plotting.scatter_matrix(bridges_five_pred, figsize=(16,16))"
   ]
  },
  {
   "cell_type": "markdown",
   "id": "6232127e-54bd-47bf-b336-07c79c53a0e7",
   "metadata": {},
   "source": [
    "The first hexbin shows a clear dark point around about the 15 years mark with a current condition rating around about 22. This rating is pretty similar from bridges ages 70 up to the age of 2.\n",
    "\n",
    "When looking at the Average daily and trucks percent. It is obvious that most vehicle travel over bridges that are in good condition."
   ]
  },
  {
   "cell_type": "code",
   "execution_count": null,
   "id": "41a34338-e5e9-4cc9-9ceb-079a25ab0482",
   "metadata": {},
   "outputs": [],
   "source": [
    "bridges_five_pred.loc[bridges_five_pred.Current_Condition < 30].plot(kind='hexbin',  x='Age', y='Current_Condition',  gridsize=20, sharex=False)\n",
    "bridges_five_pred.loc[bridges_five_pred.Current_Condition < 30].plot(kind='hexbin',  x='AverageDaily', y='Current_Condition',  gridsize=20, sharex=False)\n",
    "bridges_five_pred.loc[bridges_five_pred.Current_Condition < 30].plot(kind='hexbin',  x='Trucks_percent', y='Current_Condition',  gridsize=20, sharex=False)\n"
   ]
  },
  {
   "cell_type": "markdown",
   "id": "326b131f-cd46-454c-9460-a93007d68fe0",
   "metadata": {},
   "source": [
    "##### Relationship between continuous variables and categorical variables"
   ]
  },
  {
   "cell_type": "markdown",
   "id": "04049e6c-2b8b-4509-8f55-d54cf205b938",
   "metadata": {},
   "source": [
    "The below tables are known as pivot tables. This has been done to show the relationship between categorical and continuous variables.\n",
    "The first table shows the relationship between Material and how it compares to the continuous variables.\n",
    "\n",
    "One thing that was immediately noticable is the fact that there are not that many more average daily Concrete bridge crossings when compared to Steel bridge crossings. Although concrete bridge crossings are slightly more the current condition rating is more or less the same. With trust percent is quite obvious that trucks seem to travel more via a concrete bridge when compared to a Steel bridge."
   ]
  },
  {
   "cell_type": "code",
   "execution_count": null,
   "id": "d50b4c06-05bb-4cd4-ba12-59e6ec3c5a11",
   "metadata": {},
   "outputs": [],
   "source": [
    "table1 = pd.pivot_table(bridges_five_pred, index=['Material'])\n",
    "table1"
   ]
  },
  {
   "cell_type": "markdown",
   "id": "0a18ee7a-5940-4dd6-97c5-13393e0b322f",
   "metadata": {},
   "source": [
    "The table2 shows that most crossings are made on Beam bridges but trucks tend to travel via Slab bridges. Notwithstanding, that the highest current condition rating comes from Arch bridges.\n",
    "\n",
    "Another interesting factor to take note of is that Slab bridges are the oldest bridges with an average age of 57 years old."
   ]
  },
  {
   "cell_type": "code",
   "execution_count": null,
   "id": "52a46fa2-2bd5-4ac0-a559-a0624defd00d",
   "metadata": {},
   "outputs": [],
   "source": [
    "table2 = pd.pivot_table(bridges_five_pred, index=['Design'])\n",
    "table2"
   ]
  },
  {
   "cell_type": "markdown",
   "id": "7c1dcba0-e0eb-48cc-a964-fd523dff9a59",
   "metadata": {},
   "source": [
    "The below bar charts are a visual representation of how the bridge material and bridge design compare of current condition. Beam is clearly the most common bridge design, while concrete is the most common bridge material. "
   ]
  },
  {
   "cell_type": "code",
   "execution_count": null,
   "id": "f9659681-49de-47a1-8572-a7f27afc6c84",
   "metadata": {},
   "outputs": [],
   "source": [
    "fig, (a1, a2) = plt.subplots(2, 1, figsize = (8, 10))\n",
    "\n",
    "bridges_five_pred.pivot_table(values='Current_Condition', index='Design', aggfunc='count').plot(\n",
    "    ax=a1, kind='bar', log=True, legend=True)\n",
    "bridges_five_pred.pivot_table(values='Current_Condition', index='Material', aggfunc='count').plot(\n",
    "    ax=a2, kind='bar', log=True, legend=True)\n",
    "\n"
   ]
  },
  {
   "cell_type": "markdown",
   "id": "5502d5e7-09c3-42d4-ba91-43473c8d9d8e",
   "metadata": {},
   "source": [
    "You can see the distinctive connection between Design and the current condition ratings. It is not surprising but exciting to see the correlation between the two variables through the data collected.\n",
    "\n",
    "In the data, you might notice the most common rating amongst all bridge design fall between a rating of around 20 to 22 with the exception of Arch where quite a few of their bridge designs fall in a rating of 24.\n",
    "\n",
    "Arch has managed to maintain pretty good ratings with nothing less than 15 and ratings as high as 24 making it a good safe and well maintained design type. This can also be said about all bridge designs as all fall in the Satisfactory to Excellent section of the current condition ratings."
   ]
  },
  {
   "cell_type": "code",
   "execution_count": null,
   "id": "09829de0-dc51-45cf-85e2-49181df1bafc",
   "metadata": {},
   "outputs": [],
   "source": [
    "pd.options.display.max_columns = None\n",
    "\n",
    "curr_con_and_des = pd.crosstab(bridges_five_pred.Current_Condition, [bridges_five_pred.Design], normalize='all')\n",
    "curr_con_and_des_tot = pd.crosstab(bridges_five_pred.Current_Condition, [bridges_five_pred.Design], normalize='all', margins=True)\n",
    "des_and_curr_con = pd.crosstab(bridges_five_pred.Design, [bridges_five_pred.Current_Condition], normalize='all')\n",
    "\n",
    "des_given_curr_con = pd.crosstab(bridges_five_pred.Current_Condition, [bridges_five_pred.Design], normalize='index')\n",
    "curr_con_given_des = pd.crosstab(bridges_five_pred.Design, [bridges_five_pred.Current_Condition], normalize='index')\n",
    "\n",
    "curr_con_and_des_tot.round(4) * 100\n",
    "des_and_curr_con.round(4) * 100\n",
    "des_given_curr_con.round(4) * 100\n",
    "curr_con_given_des.round(4) * 100\n"
   ]
  },
  {
   "cell_type": "markdown",
   "id": "3c7fee37-2186-42c2-837e-0f8398008f3a",
   "metadata": {},
   "source": [
    "It appears that Concrete has an higher most common current condition rating in comparison to Steel and Other. This could be due to a number of factors. Concrete could just be a better material for bridges, Steel may rust and deteriate with time or the concrete bridges may have been built more recently."
   ]
  },
  {
   "cell_type": "code",
   "execution_count": null,
   "id": "65b56429-0652-41ac-b61e-e684eab3bb85",
   "metadata": {},
   "outputs": [],
   "source": [
    "pd.options.display.max_columns = None\n",
    "\n",
    "curr_con_and_mat = pd.crosstab(bridges_five_pred.Current_Condition, [bridges_five_pred.Material], normalize='all')\n",
    "curr_con_and_mat_tot = pd.crosstab(bridges_five_pred.Current_Condition, [bridges_five_pred.Material], normalize='all', margins=True)\n",
    "mat_and_curr_con = pd.crosstab(bridges_five_pred.Material, [bridges_five_pred.Current_Condition], normalize='all')\n",
    "\n",
    "mat_given_curr_con = pd.crosstab(bridges_five_pred.Current_Condition, [bridges_five_pred.Material], normalize='index')\n",
    "curr_con_given_mat = pd.crosstab(bridges_five_pred.Material, [bridges_five_pred.Current_Condition], normalize='index')\n",
    "\n",
    "curr_con_and_mat_tot.round(4) * 100\n",
    "mat_and_curr_con.round(4) * 100\n",
    "mat_given_curr_con.round(4) * 100\n",
    "curr_con_given_mat.round(4) * 100"
   ]
  },
  {
   "cell_type": "markdown",
   "id": "fece280b-9d0c-405e-acc3-d3958ee7d426",
   "metadata": {},
   "source": [
    "The below boxplot provides a graphical summary of the distribution of some samples. The boxplot shows the shape, central tendency, and variability of the data.\n",
    "\n",
    "From observing the box plot it can be found that there are quite a few visible outliers. What this means is that there are data values that are far away from other data values which can also greatly affect the results of any analysis.\n",
    "\n",
    "The visible outliers are due to the very low rated/failed bridges or even some very high rated bridges also which are in excellent condition"
   ]
  },
  {
   "cell_type": "code",
   "execution_count": null,
   "id": "877cd64c-4b5c-4391-b24e-73c699856c62",
   "metadata": {},
   "outputs": [],
   "source": [
    "fig, (a1, a2) = plt.subplots(2,1, figsize=(15,14))\n",
    "\n",
    "bridges_five_pred.boxplot(column='Current_Condition', by='Material', ax=a1)\n",
    "bridges_five_pred.boxplot(column='Current_Condition', by='Design', ax=a2)\n",
    "\n",
    "\n",
    "# Make the plots a bit clearer\n",
    "fig.suptitle('')\n",
    "[a.set_title('') for a in [a1, a2]]\n",
    "a1.set_ylabel('Current Condition')\n",
    "a2.set_ylabel('Current Condition')\n"
   ]
  },
  {
   "cell_type": "markdown",
   "id": "903bb346-dbe2-4a96-9645-91c249591824",
   "metadata": {},
   "source": [
    "##### Relationship between categorical variables"
   ]
  },
  {
   "cell_type": "markdown",
   "id": "2f9afcd0-bafb-482a-ba6d-835ad808b42d",
   "metadata": {},
   "source": [
    "The below table compares two categorical variables being material and design. It appears that Beam is the most common bridge design as it holds the highest percentage for all three bridge materials. Truss appears to be the least used design type followed by Arch.\n",
    "\n",
    "It can also be observed that Slab bridges are only made from concretes and truss bridges are only made from Steel.\n"
   ]
  },
  {
   "cell_type": "code",
   "execution_count": null,
   "id": "e8a4e08c-9c8c-4f81-8727-d413d3d7fba6",
   "metadata": {},
   "outputs": [],
   "source": [
    "des_and_mat = pd.crosstab(bridges_five_pred.Design, [bridges_five_pred.Material], normalize='all')\n",
    "des_and_mat_tot = pd.crosstab(bridges_five_pred.Design, [bridges_five_pred.Material], normalize='all', margins=True)\n",
    "mat_and_des = pd.crosstab(bridges_five_pred.Material, [bridges_five_pred.Design], normalize='all')\n",
    "\n",
    "mat_given_des = pd.crosstab(bridges_five_pred.Design, [bridges_five_pred.Material], normalize='index')\n",
    "des_given_mat = pd.crosstab(bridges_five_pred.Material, [bridges_five_pred.Design], normalize='index')\n",
    "\n",
    "des_and_mat_tot.round(4) * 100\n",
    "mat_and_des.round(4) * 100\n",
    "mat_given_des.round(4) * 100\n",
    "des_given_mat.round(4) * 100"
   ]
  },
  {
   "cell_type": "markdown",
   "id": "762866c1-c061-4cb7-a9d8-b2551cb12143",
   "metadata": {},
   "source": [
    "The below Stacked bar charts is a great way to compare absolute values between bars.\n",
    "\n",
    "The stacked chart has been configured to 100%; this enables a clear comparison of the relative values for each bar.\n",
    "\n",
    "When looking at the probability of Material given Design, you can see below, concrete being the blue bar makes up the majority of all bridge material followed by steel.\n",
    "\n",
    "The chart this also confirms the earlier statement about Slab bridges being made of Concrete and Truss bridges being made of Steel.\n",
    "\n",
    "When observing the chart for probability of Design given Material Beam hold an overall majority as being the most common bridge design.\n"
   ]
  },
  {
   "cell_type": "code",
   "execution_count": null,
   "id": "eddc79a1-62af-4ae2-bf09-510da2d7d83c",
   "metadata": {},
   "outputs": [],
   "source": [
    "fig,(a1, a2) = plt.subplots(2,1,figsize=(15,20), sharey=False, sharex=False)\n",
    "fig.subplots_adjust(hspace=0.35)\n",
    "\n",
    "mat_given_des.plot(kind='bar', subplots=False, ax=a1, rot=0, stacked=True)\n",
    "a1.set_title('Probability of Material, given Design', fontsize=14)\n",
    "\n",
    "des_given_mat.plot(kind='bar', subplots=False, ax=a2, rot=0, stacked = True)\n",
    "a2.set_title('Probability of Design, given Material', fontsize=14)"
   ]
  },
  {
   "cell_type": "markdown",
   "id": "8a9950ee-f409-4dd5-9641-41fb8d3151a7",
   "metadata": {},
   "source": [
    "For this final example that compares categorical variables, the below crosstab has been passed to a seaborn heatmap in order to visually summarize the data.\n",
    "\n",
    "With the use of a heatmap, we can easily interpret the data. Fortunately, seaborn can take the output from the crosstab and visualize it:\n"
   ]
  },
  {
   "cell_type": "code",
   "execution_count": null,
   "id": "2a32bee8-1b3f-4922-8948-a9161b22bb8b",
   "metadata": {},
   "outputs": [],
   "source": [
    "mat_given_des1 = pd.crosstab(bridges_five_pred.Material, [bridges_five_pred.Design], normalize='index')\n",
    "\n",
    "fig,ax = plt.subplots(1,1, figsize=(12,10))\n",
    "sns.heatmap(mat_given_des.round(4)*100, cmap=sns.light_palette('grey'), linewidths = 2,\n",
    "            annot=True, ax=ax, annot_kws={\"size\": 13}, fmt='g')\n",
    "ax.set_title('Superstructure Rating given Deck Rating', fontsize=14)"
   ]
  },
  {
   "cell_type": "markdown",
   "id": "5c47051c-3d02-4a48-a76b-3b851e832cfe",
   "metadata": {},
   "source": [
    "## Part 3: Regression Modelling"
   ]
  },
  {
   "cell_type": "markdown",
   "id": "e54b0358-3672-4f4b-89cc-f8917bb9df5e",
   "metadata": {},
   "source": [
    "- You should record the R2 (coefficient of determination) and comment on the value.\n",
    "- You should show and comment on the distribution of residuals (errors).\n",
    "- You should use the regression coefficients to compare the influence of the different predictors.\n",
    "- You should draw final conclusions at the end of this part of the analysis on the answers to the questions asked by the Texas Department of Transportation. You should include brief suggestions for further analysis"
   ]
  },
  {
   "cell_type": "markdown",
   "id": "0d38e009-9f75-45d7-acdb-2b07811b6feb",
   "metadata": {},
   "source": [
    "#### Below a linear regression has been solved. "
   ]
  },
  {
   "cell_type": "markdown",
   "id": "3772b3ac-9086-4f50-a169-3143c9f8a531",
   "metadata": {},
   "source": [
    "To minimise errors the NaN values have been dropped."
   ]
  },
  {
   "cell_type": "code",
   "execution_count": null,
   "id": "adc6f0d2-b2f1-4174-baaf-20b1e5817107",
   "metadata": {},
   "outputs": [],
   "source": [
    "bridges_five_pred1 = bridges_five_pred.dropna()\n",
    "print(bridges_five_pred1)"
   ]
  },
  {
   "cell_type": "markdown",
   "id": "aaeeae6f-a331-4ee5-b944-266d3e895572",
   "metadata": {},
   "source": [
    "Both Material and Design have been made into dummie variables to which will be represented as either 0/1. This will also allow these variables to be used to carry out a regression analysis. The first column will also be dropped in order to avoid correlation or collinearity"
   ]
  },
  {
   "cell_type": "code",
   "execution_count": null,
   "id": "8a52dfa7-fc95-4b53-b6e4-5964838a76a2",
   "metadata": {},
   "outputs": [],
   "source": [
    "Mat_D = pd.get_dummies(bridges_five_pred1.Material, drop_first=True)\n",
    "Mat_D"
   ]
  },
  {
   "cell_type": "code",
   "execution_count": null,
   "id": "91686cc0-86a4-40ad-bc10-59cac5027943",
   "metadata": {},
   "outputs": [],
   "source": [
    "Des_D = pd.get_dummies(bridges_five_pred1.Design, drop_first=True)\n",
    "Des_D"
   ]
  },
  {
   "cell_type": "markdown",
   "id": "ce883d0b-79d7-4c1d-bcff-640ab2a2893b",
   "metadata": {},
   "source": [
    "#### Below is a record of the R2 (coefficient of determination) and the comment attached"
   ]
  },
  {
   "cell_type": "markdown",
   "id": "3d4b38a2-5cdc-4310-8ca0-d946b336f756",
   "metadata": {},
   "source": [
    "Current condition, Average Daily use, Trucks percent use, Age, Design and Material are all vital variables in order to gauge a clear relationship.  \n",
    "\n",
    "The coefficient of determination, R2, is used to analyse how the differences in a target variable can be explained by a difference in the predictor variables.\n",
    "\n",
    "More specifically, R-squared gives the percentage variation in y explained by x-variables. The range is 0 to 1.\n",
    "\n",
    "From the below calculation is can be found that R-squared gives the degree of variability in the target variable that is explained by the model or the independent variables. With an R2 value of 0.451, then it means that the predictor variables explain 45.1% of the variation in the target variable.\n",
    "\n",
    "The Y-intercept represents the value of y when x = 0. On an x, y graph, a Y-intercept is the part of the curve that crosses the y-axis which gives a value of 24.\n",
    "\n",
    "In this simple linear regression, the size of the coefficient for each independent predictor variable gives the size of the effect that a variable is having on your dependent variable, and the sign on the coefficient whether it be positive or negative gives the direction of the effect. In this regression, the coefficients for **Age**, **Mat Other**, **Mat Steel**, **Des Beam**, **Des Other**, **Des Slab**, **Des Truss** tells us that the dependent variable is expected to decrease by 0.049, 2.78, 1.35, 1.51, 1.53, 1.597, 0.826 respectively. However, **AverageDaily** and **Truck_percent** When the independent variable increases by one AverageDaily has no change while Truck percent increase by 0.005. As multiple independent variables are being used, the coefficient tells you how much the dependent variable is expected to increase/decrease when that independent variable increases by one, holding all the other independent variables constant. \n",
    "\n",
    "\n",
    "The Root Mean Squared Error which indicates that the observed data are close to each other shows a better accuracy. Thus a lower RMSE show a better model performance. As the RMSE is 1.45 making it a bad fit.\n",
    "\n"
   ]
  },
  {
   "cell_type": "code",
   "execution_count": null,
   "id": "e260cad4-426c-4750-a500-59ced16b9c07",
   "metadata": {},
   "outputs": [],
   "source": [
    "y = bridges_five_pred1.Current_Condition # this is the target variable; we assue just one though more are possible\n",
    "X = np.column_stack((bridges_five_pred1.Age, bridges_five_pred1.AverageDaily, bridges_five_pred1.Trucks_percent, Mat_D.Other, Mat_D.Steel, Des_D.Beam, Des_D.Other, Des_D.Slab, Des_D.Truss))\n",
    "reg = LinearRegression().fit(X, y)"
   ]
  },
  {
   "cell_type": "code",
   "execution_count": null,
   "id": "ecdba92f-533b-401a-94ec-39300399c0fb",
   "metadata": {},
   "outputs": [],
   "source": [
    "reg = LinearRegression().fit(X, y)\n",
    "print('The R2 coefficient of determination is %4.3f' % reg.score(X, y))\n",
    "print('The intercept is %4.1f' % reg.intercept_)\n",
    "print(\"The regression coefficients are: \" + str(reg.coef_.round(4)))\n"
   ]
  },
  {
   "cell_type": "code",
   "execution_count": null,
   "id": "e488a0c2-2b8b-4fc5-b94a-bf7aa6f8aa65",
   "metadata": {},
   "outputs": [],
   "source": [
    "data = [[\"Age\", -0.0486], [\"AverageDaily\", -0], [\"Trucks_percent\", 0.005], [\"Mat Other\", -2.7801],[\"Mat Steel\", -1.3512], [\"Des Beam\", -1.5157], [\"Des Other\", -1.5313], [\"Des Slab\", -1.5966], [\"Des Truss\", -0.8264]]\n",
    "df = pd.DataFrame(data, columns = ['Variables', 'Regression Coefficient'])\n",
    "df"
   ]
  },
  {
   "cell_type": "markdown",
   "id": "0a59d1f4-dbdf-4354-be49-c2a274b8b1de",
   "metadata": {},
   "source": [
    "The larger the coefficient the greater the effect it has on the target variable"
   ]
  },
  {
   "cell_type": "code",
   "execution_count": null,
   "id": "cdf79abc-bfd5-486d-851c-9ec6d14f8be4",
   "metadata": {},
   "outputs": [],
   "source": [
    "y_hat = reg.predict(X)\n",
    "\n",
    "fig, a1 = plt.subplots(1, 1)\n",
    "residuals = y_hat - y\n",
    "a1.hist(residuals, bins=10, density=True)\n",
    "_ = a1.set_xlabel('Error in prediction: predicted - actual current condition')"
   ]
  },
  {
   "cell_type": "code",
   "execution_count": null,
   "id": "b9fb40c6-e644-4d82-b19c-688c538d518c",
   "metadata": {},
   "outputs": [],
   "source": [
    "print('RMSE: %.2f' % mean_squared_error (y, y_hat, squared=False))"
   ]
  },
  {
   "cell_type": "markdown",
   "id": "046ae46a-4c17-4684-9664-e957600324a5",
   "metadata": {},
   "source": [
    "Below is a scatter plot for the  actual value against the predicted values. If the regression fitted better, the points would be nearer to the blue line. Although there is some evidence of a positive correlation but very minor."
   ]
  },
  {
   "cell_type": "code",
   "execution_count": null,
   "id": "c6c4942f-0d04-4ced-86b6-324943a57d58",
   "metadata": {},
   "outputs": [],
   "source": [
    "fig, a = plt.subplots(1,1,figsize=(15,10))\n",
    "a.scatter(y_hat, y,  color='black')\n",
    "a.plot(y_hat, y_hat, color='blue', linewidth=3)\n",
    "\n",
    "a.set_xlabel('Predicted Value')\n",
    "a.set_ylabel('Actual Value')"
   ]
  },
  {
   "cell_type": "markdown",
   "id": "befa6292-9cd3-46ad-9757-8e596720f9b1",
   "metadata": {},
   "source": [
    "Conclusion - best to include more variables to create a more detailed are more accurate set of results"
   ]
  }
 ],
 "metadata": {
  "kernelspec": {
   "display_name": "Python 3 (ipykernel)",
   "language": "python",
   "name": "python3"
  },
  "language_info": {
   "codemirror_mode": {
    "name": "ipython",
    "version": 3
   },
   "file_extension": ".py",
   "mimetype": "text/x-python",
   "name": "python",
   "nbconvert_exporter": "python",
   "pygments_lexer": "ipython3",
   "version": "3.10.4"
  }
 },
 "nbformat": 4,
 "nbformat_minor": 5
}
