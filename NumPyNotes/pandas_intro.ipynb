{
 "cells": [
  {
   "cell_type": "markdown",
   "id": "b32a3c51",
   "metadata": {},
   "source": [
    "## Series"
   ]
  },
  {
   "cell_type": "code",
   "execution_count": 1,
   "id": "1f8dc324",
   "metadata": {},
   "outputs": [],
   "source": [
    "import pandas as pd\n",
    "import numpy as np"
   ]
  },
  {
   "cell_type": "code",
   "execution_count": 2,
   "id": "c7f5f037",
   "metadata": {},
   "outputs": [
    {
     "data": {
      "text/plain": [
       "0    10\n",
       "1    20\n",
       "2    30\n",
       "3    40\n",
       "4    50\n",
       "dtype: int64"
      ]
     },
     "execution_count": 2,
     "metadata": {},
     "output_type": "execute_result"
    }
   ],
   "source": [
    "x = pd.Series([10, 20, 30, 40, 50])\n",
    "x"
   ]
  },
  {
   "cell_type": "code",
   "execution_count": 3,
   "id": "00a71175",
   "metadata": {},
   "outputs": [
    {
     "data": {
      "text/plain": [
       "RangeIndex(start=0, stop=5, step=1)"
      ]
     },
     "execution_count": 3,
     "metadata": {},
     "output_type": "execute_result"
    }
   ],
   "source": [
    "x.index"
   ]
  },
  {
   "cell_type": "code",
   "execution_count": 4,
   "id": "af9d9f19",
   "metadata": {},
   "outputs": [
    {
     "data": {
      "text/plain": [
       "dtype('int64')"
      ]
     },
     "execution_count": 4,
     "metadata": {},
     "output_type": "execute_result"
    }
   ],
   "source": [
    "x.dtype"
   ]
  },
  {
   "cell_type": "code",
   "execution_count": 5,
   "id": "dffecf22",
   "metadata": {},
   "outputs": [
    {
     "data": {
      "text/plain": [
       "array([10, 20, 30, 40, 50], dtype=int64)"
      ]
     },
     "execution_count": 5,
     "metadata": {},
     "output_type": "execute_result"
    }
   ],
   "source": [
    "x.values"
   ]
  },
  {
   "cell_type": "code",
   "execution_count": 20,
   "id": "3ca4314e",
   "metadata": {},
   "outputs": [
    {
     "data": {
      "text/plain": [
       "Year\n",
       "2010    450\n",
       "2011    650\n",
       "2012    870\n",
       "Name: Total Sales per year, dtype: int64"
      ]
     },
     "execution_count": 20,
     "metadata": {},
     "output_type": "execute_result"
    }
   ],
   "source": [
    "data = [450, 650, 870]\n",
    "#index = ['Don', 'Mike', 'Edwin']\n",
    "index = [2010, 2011, 2012]\n",
    "sales = pd.Series(data, index=index)\n",
    "sales.index.name = \"Year\"\n",
    "sales.name = \"Total Sales per year\"\n",
    "sales"
   ]
  },
  {
   "cell_type": "code",
   "execution_count": 19,
   "id": "5d17c47f",
   "metadata": {},
   "outputs": [
    {
     "data": {
      "text/plain": [
       "Int64Index([2010, 2011, 2012], dtype='int64', name='Year')"
      ]
     },
     "execution_count": 19,
     "metadata": {},
     "output_type": "execute_result"
    }
   ],
   "source": [
    "sales.index"
   ]
  },
  {
   "cell_type": "code",
   "execution_count": 22,
   "id": "4534fe4f",
   "metadata": {},
   "outputs": [
    {
     "data": {
      "text/plain": [
       "Year\n",
       "2010    450\n",
       "2011    650\n",
       "2012    870\n",
       "Name: Total Sales per year, dtype: int64"
      ]
     },
     "execution_count": 22,
     "metadata": {},
     "output_type": "execute_result"
    }
   ],
   "source": [
    "sales[2012]\n",
    "sales"
   ]
  },
  {
   "cell_type": "code",
   "execution_count": 24,
   "id": "cf023572",
   "metadata": {},
   "outputs": [
    {
     "data": {
      "text/plain": [
       "450"
      ]
     },
     "execution_count": 24,
     "metadata": {},
     "output_type": "execute_result"
    }
   ],
   "source": [
    "sales.iloc[0]"
   ]
  },
  {
   "cell_type": "code",
   "execution_count": 26,
   "id": "da9a46f9",
   "metadata": {},
   "outputs": [
    {
     "data": {
      "text/plain": [
       "450"
      ]
     },
     "execution_count": 26,
     "metadata": {},
     "output_type": "execute_result"
    }
   ],
   "source": [
    "sales[2010]"
   ]
  },
  {
   "cell_type": "code",
   "execution_count": 28,
   "id": "03cb7472",
   "metadata": {},
   "outputs": [
    {
     "data": {
      "text/plain": [
       "Year\n",
       "2010    False\n",
       "2011     True\n",
       "2012     True\n",
       "Name: Total Sales per year, dtype: bool"
      ]
     },
     "execution_count": 28,
     "metadata": {},
     "output_type": "execute_result"
    }
   ],
   "source": [
    "sales > 500"
   ]
  },
  {
   "cell_type": "code",
   "execution_count": 30,
   "id": "f153d817",
   "metadata": {},
   "outputs": [
    {
     "data": {
      "text/plain": [
       "Year\n",
       "2011    650\n",
       "2012    870\n",
       "Name: Total Sales per year, dtype: int64"
      ]
     },
     "execution_count": 30,
     "metadata": {},
     "output_type": "execute_result"
    }
   ],
   "source": [
    "sales[[False, True, True]]"
   ]
  },
  {
   "cell_type": "code",
   "execution_count": 32,
   "id": "fe4d2344",
   "metadata": {},
   "outputs": [
    {
     "data": {
      "text/plain": [
       "Year\n",
       "2011    650\n",
       "2012    870\n",
       "Name: Total Sales per year, dtype: int64"
      ]
     },
     "execution_count": 32,
     "metadata": {},
     "output_type": "execute_result"
    }
   ],
   "source": [
    "sales[sales>500]"
   ]
  },
  {
   "cell_type": "code",
   "execution_count": 35,
   "id": "c1ed5d5a",
   "metadata": {},
   "outputs": [
    {
     "data": {
      "text/plain": [
       "[650, 870]"
      ]
     },
     "execution_count": 35,
     "metadata": {},
     "output_type": "execute_result"
    }
   ],
   "source": [
    "list(sales [sales > 500].values)"
   ]
  },
  {
   "cell_type": "code",
   "execution_count": 37,
   "id": "48440077",
   "metadata": {},
   "outputs": [
    {
     "data": {
      "text/plain": [
       "False"
      ]
     },
     "execution_count": 37,
     "metadata": {},
     "output_type": "execute_result"
    }
   ],
   "source": [
    "650 in sales"
   ]
  },
  {
   "cell_type": "code",
   "execution_count": 40,
   "id": "5ff6f6e0",
   "metadata": {},
   "outputs": [
    {
     "data": {
      "text/plain": [
       "True"
      ]
     },
     "execution_count": 40,
     "metadata": {},
     "output_type": "execute_result"
    }
   ],
   "source": [
    "650 in sales.values"
   ]
  },
  {
   "cell_type": "code",
   "execution_count": 42,
   "id": "63a81104",
   "metadata": {},
   "outputs": [
    {
     "data": {
      "text/plain": [
       "{2010: 450, 2011: 650, 2012: 870}"
      ]
     },
     "execution_count": 42,
     "metadata": {},
     "output_type": "execute_result"
    }
   ],
   "source": [
    "sales.to_dict()"
   ]
  },
  {
   "cell_type": "code",
   "execution_count": 46,
   "id": "afebd0dc",
   "metadata": {},
   "outputs": [
    {
     "data": {
      "text/plain": [
       "Don      534\n",
       "Mike     453\n",
       "Edwin    412\n",
       "dtype: int64"
      ]
     },
     "execution_count": 46,
     "metadata": {},
     "output_type": "execute_result"
    }
   ],
   "source": [
    "sales_dict = {\n",
    "    \"Don\" : 534,\n",
    "    \"Mike\" : 453,\n",
    "    \"Edwin\" : 412\n",
    "    \n",
    "}\n",
    "sales_ser = pd.Series(sales_dict)\n",
    "sales_ser"
   ]
  },
  {
   "cell_type": "code",
   "execution_count": 48,
   "id": "d7c13d96",
   "metadata": {},
   "outputs": [
    {
     "data": {
      "text/plain": [
       "Don      534.0\n",
       "Mike     453.0\n",
       "Sally      NaN\n",
       "Edwin    412.0\n",
       "Lucy       NaN\n",
       "dtype: float64"
      ]
     },
     "execution_count": 48,
     "metadata": {},
     "output_type": "execute_result"
    }
   ],
   "source": [
    "new_sales = pd.Series(sales_dict, index=[\"Don\", \"Mike\", \"Sally\", \"Edwin\", \"Lucy\"])\n",
    "new_sales"
   ]
  },
  {
   "cell_type": "code",
   "execution_count": 50,
   "id": "b5467957",
   "metadata": {},
   "outputs": [
    {
     "data": {
      "text/plain": [
       "Don      False\n",
       "Mike     False\n",
       "Sally     True\n",
       "Edwin    False\n",
       "Lucy      True\n",
       "dtype: bool"
      ]
     },
     "execution_count": 50,
     "metadata": {},
     "output_type": "execute_result"
    }
   ],
   "source": [
    "np.isnan(new_sales)"
   ]
  },
  {
   "cell_type": "code",
   "execution_count": 52,
   "id": "33e852af",
   "metadata": {},
   "outputs": [
    {
     "data": {
      "text/plain": [
       "False"
      ]
     },
     "execution_count": 52,
     "metadata": {},
     "output_type": "execute_result"
    }
   ],
   "source": [
    "new_sales.loc[\"Sally\"] is None"
   ]
  },
  {
   "cell_type": "code",
   "execution_count": 55,
   "id": "878c7487",
   "metadata": {},
   "outputs": [
    {
     "data": {
      "text/plain": [
       "nan"
      ]
     },
     "execution_count": 55,
     "metadata": {},
     "output_type": "execute_result"
    }
   ],
   "source": [
    "n = np.nan\n",
    "n"
   ]
  },
  {
   "cell_type": "code",
   "execution_count": 57,
   "id": "e6676696",
   "metadata": {},
   "outputs": [
    {
     "data": {
      "text/plain": [
       "float"
      ]
     },
     "execution_count": 57,
     "metadata": {},
     "output_type": "execute_result"
    }
   ],
   "source": [
    "type(n)"
   ]
  },
  {
   "cell_type": "code",
   "execution_count": 59,
   "id": "ae5fa953",
   "metadata": {},
   "outputs": [
    {
     "data": {
      "text/plain": [
       "Don      534.0\n",
       "Mike     453.0\n",
       "Sally      NaN\n",
       "Edwin    412.0\n",
       "Lucy       NaN\n",
       "dtype: float64"
      ]
     },
     "execution_count": 59,
     "metadata": {},
     "output_type": "execute_result"
    }
   ],
   "source": [
    "new_sales"
   ]
  },
  {
   "cell_type": "code",
   "execution_count": 63,
   "id": "a0306ac6",
   "metadata": {},
   "outputs": [
    {
     "data": {
      "text/plain": [
       "Don      534.0\n",
       "Mike     453.0\n",
       "Sally    540.0\n",
       "Edwin    412.0\n",
       "Lucy       NaN\n",
       "dtype: float64"
      ]
     },
     "execution_count": 63,
     "metadata": {},
     "output_type": "execute_result"
    }
   ],
   "source": [
    "new_sales.loc[\"Sally\"] = 540\n",
    "new_sales"
   ]
  },
  {
   "cell_type": "code",
   "execution_count": 65,
   "id": "451e0ab7",
   "metadata": {},
   "outputs": [],
   "source": [
    "new_sales.index.name = \"Sales Person\""
   ]
  },
  {
   "cell_type": "code",
   "execution_count": 68,
   "id": "ef7ad547",
   "metadata": {},
   "outputs": [],
   "source": [
    "new_sales.name = \"Total TV Sales\""
   ]
  },
  {
   "cell_type": "code",
   "execution_count": 70,
   "id": "768d7c59",
   "metadata": {},
   "outputs": [
    {
     "data": {
      "text/plain": [
       "Sales Person\n",
       "Don      534.0\n",
       "Mike     453.0\n",
       "Sally    540.0\n",
       "Edwin    412.0\n",
       "Lucy       NaN\n",
       "Name: Total TV Sales, dtype: float64"
      ]
     },
     "execution_count": 70,
     "metadata": {},
     "output_type": "execute_result"
    }
   ],
   "source": [
    "new_sales"
   ]
  },
  {
   "cell_type": "markdown",
   "id": "6451e92f",
   "metadata": {},
   "source": [
    "## DataFrames\n",
    "- Two-dimensional\n",
    "- Size mutable\n",
    "- Heterogenous\n",
    "- Rows and columns(records and series)"
   ]
  },
  {
   "cell_type": "code",
   "execution_count": 71,
   "id": "0939834b",
   "metadata": {},
   "outputs": [],
   "source": [
    "sales_df = pd.DataFrame(new_sales)"
   ]
  },
  {
   "cell_type": "code",
   "execution_count": 74,
   "id": "32e5bba0",
   "metadata": {},
   "outputs": [
    {
     "data": {
      "text/html": [
       "<div>\n",
       "<style scoped>\n",
       "    .dataframe tbody tr th:only-of-type {\n",
       "        vertical-align: middle;\n",
       "    }\n",
       "\n",
       "    .dataframe tbody tr th {\n",
       "        vertical-align: top;\n",
       "    }\n",
       "\n",
       "    .dataframe thead th {\n",
       "        text-align: right;\n",
       "    }\n",
       "</style>\n",
       "<table border=\"1\" class=\"dataframe\">\n",
       "  <thead>\n",
       "    <tr style=\"text-align: right;\">\n",
       "      <th></th>\n",
       "      <th>Total TV Sales</th>\n",
       "    </tr>\n",
       "    <tr>\n",
       "      <th>Sales Person</th>\n",
       "      <th></th>\n",
       "    </tr>\n",
       "  </thead>\n",
       "  <tbody>\n",
       "    <tr>\n",
       "      <th>Don</th>\n",
       "      <td>534.0</td>\n",
       "    </tr>\n",
       "    <tr>\n",
       "      <th>Mike</th>\n",
       "      <td>453.0</td>\n",
       "    </tr>\n",
       "    <tr>\n",
       "      <th>Sally</th>\n",
       "      <td>540.0</td>\n",
       "    </tr>\n",
       "    <tr>\n",
       "      <th>Edwin</th>\n",
       "      <td>412.0</td>\n",
       "    </tr>\n",
       "    <tr>\n",
       "      <th>Lucy</th>\n",
       "      <td>NaN</td>\n",
       "    </tr>\n",
       "  </tbody>\n",
       "</table>\n",
       "</div>"
      ],
      "text/plain": [
       "              Total TV Sales\n",
       "Sales Person                \n",
       "Don                    534.0\n",
       "Mike                   453.0\n",
       "Sally                  540.0\n",
       "Edwin                  412.0\n",
       "Lucy                     NaN"
      ]
     },
     "execution_count": 74,
     "metadata": {},
     "output_type": "execute_result"
    }
   ],
   "source": [
    "sales_df"
   ]
  },
  {
   "cell_type": "code",
   "execution_count": 77,
   "id": "7ff7204c",
   "metadata": {},
   "outputs": [
    {
     "ename": "SyntaxError",
     "evalue": "closing parenthesis ']' does not match opening parenthesis '(' (1988499650.py, line 2)",
     "output_type": "error",
     "traceback": [
      "\u001b[1;36m  Input \u001b[1;32mIn [77]\u001b[1;36m\u001b[0m\n\u001b[1;33m    df = pd.DataFrame(data, columns=\"Name\", \"Age\"])\u001b[0m\n\u001b[1;37m                                                 ^\u001b[0m\n\u001b[1;31mSyntaxError\u001b[0m\u001b[1;31m:\u001b[0m closing parenthesis ']' does not match opening parenthesis '('\n"
     ]
    }
   ],
   "source": [
    "data = [['Adrian', 20], ['Bethany', 22], ['Chloe', 41]]\n",
    "df = pd.DataFrame(data, columns=\"Name\", \"Age\"])\n",
    "df"
   ]
  },
  {
   "cell_type": "code",
   "execution_count": 79,
   "id": "ed34f9c4",
   "metadata": {},
   "outputs": [
    {
     "ename": "NameError",
     "evalue": "name 'Sales' is not defined",
     "output_type": "error",
     "traceback": [
      "\u001b[1;31m---------------------------------------------------------------------------\u001b[0m",
      "\u001b[1;31mNameError\u001b[0m                                 Traceback (most recent call last)",
      "Input \u001b[1;32mIn [79]\u001b[0m, in \u001b[0;36m<cell line: 2>\u001b[1;34m()\u001b[0m\n\u001b[0;32m      1\u001b[0m list_dicts \u001b[38;5;241m=\u001b[39m {\n\u001b[1;32m----> 2\u001b[0m     {\u001b[38;5;124m\"\u001b[39m\u001b[38;5;124mName\u001b[39m\u001b[38;5;124m\"\u001b[39m:\u001b[38;5;124m\"\u001b[39m\u001b[38;5;124mTom\u001b[39m\u001b[38;5;124m\"\u001b[39m, \u001b[43mSales\u001b[49m:\u001b[38;5;241m300\u001b[39m},\n\u001b[0;32m      3\u001b[0m     {\u001b[38;5;124m\"\u001b[39m\u001b[38;5;124mName\u001b[39m\u001b[38;5;124m\"\u001b[39m:Greg},\n\u001b[0;32m      4\u001b[0m     {name, Paula, Sales, \u001b[38;5;241m542\u001b[39m, Performance, Outstanding},\n\u001b[0;32m      5\u001b[0m     \n\u001b[0;32m      6\u001b[0m }\n",
      "\u001b[1;31mNameError\u001b[0m: name 'Sales' is not defined"
     ]
    }
   ],
   "source": [
    "list_dicts = {\n",
    "    {\"Name\":\"Tom\", Sales:300},\n",
    "    {\"Name\":Greg},\n",
    "    {name, Paula, Sales, 542, Performance, Outstanding},\n",
    "    \n",
    "}"
   ]
  },
  {
   "cell_type": "code",
   "execution_count": null,
   "id": "3adcb246",
   "metadata": {},
   "outputs": [],
   "source": []
  }
 ],
 "metadata": {
  "kernelspec": {
   "display_name": "Python 3 (ipykernel)",
   "language": "python",
   "name": "python3"
  },
  "language_info": {
   "codemirror_mode": {
    "name": "ipython",
    "version": 3
   },
   "file_extension": ".py",
   "mimetype": "text/x-python",
   "name": "python",
   "nbconvert_exporter": "python",
   "pygments_lexer": "ipython3",
   "version": "3.10.4"
  }
 },
 "nbformat": 4,
 "nbformat_minor": 5
}
